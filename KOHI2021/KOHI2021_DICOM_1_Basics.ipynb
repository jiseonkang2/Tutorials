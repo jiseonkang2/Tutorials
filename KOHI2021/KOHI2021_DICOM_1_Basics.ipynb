{
  "nbformat": 4,
  "nbformat_minor": 0,
  "metadata": {
    "colab": {
      "name": "KOHI2021_DICOM_1_Basics.ipynb",
      "provenance": [],
      "collapsed_sections": [],
      "toc_visible": true,
      "authorship_tag": "ABX9TyOpTFh62aTSVCrg5pmUuydG",
      "include_colab_link": true
    },
    "kernelspec": {
      "name": "python3",
      "display_name": "Python 3"
    },
    "language_info": {
      "name": "python"
    }
  },
  "cells": [
    {
      "cell_type": "markdown",
      "metadata": {
        "id": "view-in-github",
        "colab_type": "text"
      },
      "source": [
        "<a href=\"https://colab.research.google.com/github/jiseonkang2/Tutorials/blob/main/KOHI2021/KOHI2021_DICOM_1_Basics.ipynb\" target=\"_parent\"><img src=\"https://colab.research.google.com/assets/colab-badge.svg\" alt=\"Open In Colab\"/></a>"
      ]
    },
    {
      "cell_type": "markdown",
      "metadata": {
        "id": "DVhwrHB1jHUV"
      },
      "source": [
        "<h1><strong>Dicom Basics</strong></h1>\n",
        "\n",
        "- pyciom tutorials [link](https://pydicom.github.io/pydicom/stable/tutorials/index.html)\n",
        "- pydicom examples [link](https://pydicom.github.io/pydicom/stable/auto_examples/index.html)"
      ]
    },
    {
      "cell_type": "markdown",
      "metadata": {
        "id": "TVKokyn3_6fp"
      },
      "source": [
        "# **PyDicom**"
      ]
    },
    {
      "cell_type": "markdown",
      "metadata": {
        "id": "j4wuqlbI_bq_"
      },
      "source": [
        "## Package 설치"
      ]
    },
    {
      "cell_type": "code",
      "metadata": {
        "id": "NOVPCpU5u6xA"
      },
      "source": [
        ""
      ],
      "execution_count": null,
      "outputs": []
    },
    {
      "cell_type": "code",
      "metadata": {
        "colab": {
          "base_uri": "https://localhost:8080/"
        },
        "id": "Qh_F33b3_phX",
        "outputId": "6e9acbf7-cc92-4f5d-f4a9-f56b4a205982"
      },
      "source": [
        "pip install pydicom"
      ],
      "execution_count": null,
      "outputs": [
        {
          "output_type": "stream",
          "text": [
            "Collecting pydicom\n",
            "  Downloading pydicom-2.2.0-py3-none-any.whl (1.9 MB)\n",
            "\u001b[K     |████████████████████████████████| 1.9 MB 4.9 MB/s \n",
            "\u001b[?25hInstalling collected packages: pydicom\n",
            "Successfully installed pydicom-2.2.0\n"
          ],
          "name": "stdout"
        }
      ]
    },
    {
      "cell_type": "code",
      "metadata": {
        "id": "GkGxaYCt_fET",
        "colab": {
          "base_uri": "https://localhost:8080/",
          "height": 35
        },
        "outputId": "f987f083-d45a-4af1-9aa4-979a51ad8d00"
      },
      "source": [
        "import pydicom\n",
        "from pydicom import dcmread\n",
        "from pydicom.data import get_testdata_file\n",
        "\n",
        "pydicom.__version__"
      ],
      "execution_count": null,
      "outputs": [
        {
          "output_type": "execute_result",
          "data": {
            "application/vnd.google.colaboratory.intrinsic+json": {
              "type": "string"
            },
            "text/plain": [
              "'2.2.0'"
            ]
          },
          "metadata": {
            "tags": []
          },
          "execution_count": 45
        }
      ]
    },
    {
      "cell_type": "markdown",
      "metadata": {
        "id": "U_1Br1gaxOVp"
      },
      "source": [
        "## DICOM example 파일 읽기"
      ]
    },
    {
      "cell_type": "code",
      "metadata": {
        "id": "Kdghk9n1uLyC"
      },
      "source": [
        "path = get_testdata_file(\"CT_small.dcm\")\n",
        "dataset = dcmread(path)"
      ],
      "execution_count": null,
      "outputs": []
    },
    {
      "cell_type": "markdown",
      "metadata": {
        "id": "mvoUye4EL1ks"
      },
      "source": [
        "## Preamble (128 bytes)"
      ]
    },
    {
      "cell_type": "code",
      "metadata": {
        "colab": {
          "base_uri": "https://localhost:8080/"
        },
        "id": "IExoOkAVLZs8",
        "outputId": "e0f5915a-83d0-40fa-eabc-c6172a5547de"
      },
      "source": [
        "dataset.preamble"
      ],
      "execution_count": null,
      "outputs": [
        {
          "output_type": "execute_result",
          "data": {
            "text/plain": [
              "b'II*\\x00T\\x18\\x08\\x00\\x00\\x00\\x00\\x00\\x00\\x00\\x00\\x00\\x00\\x00\\x00\\x00\\x00\\x00\\x00\\x00\\x00\\x00\\x00\\x00\\x00\\x00\\x00\\x00\\x00\\x00\\x00\\x00\\x00\\x00\\x00\\x00\\x00\\x00\\x00\\x00\\x00\\x00\\x00\\x00\\x00\\x00\\x00\\x00\\x00\\x00\\x00\\x00\\x00\\x00\\x00\\x00\\x00\\x00\\x00\\x00\\x00\\x00\\x00\\x00\\x00\\x00\\x00\\x00\\x00\\x00\\x00\\x00\\x00\\x00\\x00\\x00\\x00\\x00\\x00\\x00\\x00\\x00\\x00\\x00\\x00\\x00\\x00\\x00\\x00\\x00\\x00\\x00\\x00\\x00\\x00\\x00\\x00\\x00\\x00\\x00\\x00\\x00\\x00\\x00\\x00\\x00\\x00\\x00\\x00\\x00\\x00\\x00\\x00\\x00\\x00\\x00\\x00\\x00\\x00\\x00\\x00\\x00\\x00\\x00'"
            ]
          },
          "metadata": {
            "tags": []
          },
          "execution_count": 4
        }
      ]
    },
    {
      "cell_type": "markdown",
      "metadata": {
        "id": "ECIXhs5JF0GA"
      },
      "source": [
        "## Meta Information"
      ]
    },
    {
      "cell_type": "code",
      "metadata": {
        "colab": {
          "base_uri": "https://localhost:8080/"
        },
        "id": "EAPaXw4jMest",
        "outputId": "7c91bfa6-4a2c-4012-c762-564f0f260014"
      },
      "source": [
        "dataset.file_meta"
      ],
      "execution_count": null,
      "outputs": [
        {
          "output_type": "execute_result",
          "data": {
            "text/plain": [
              "(0002, 0000) File Meta Information Group Length  UL: 192\n",
              "(0002, 0001) File Meta Information Version       OB: b'\\x00\\x01'\n",
              "(0002, 0002) Media Storage SOP Class UID         UI: CT Image Storage\n",
              "(0002, 0003) Media Storage SOP Instance UID      UI: 1.3.6.1.4.1.5962.1.1.1.1.1.20040119072730.12322\n",
              "(0002, 0010) Transfer Syntax UID                 UI: Explicit VR Little Endian\n",
              "(0002, 0012) Implementation Class UID            UI: 1.3.6.1.4.1.5962.2\n",
              "(0002, 0013) Implementation Version Name         SH: 'DCTOOL100'\n",
              "(0002, 0016) Source Application Entity Title     AE: 'CLUNIE1'"
            ]
          },
          "metadata": {
            "tags": []
          },
          "execution_count": 5
        }
      ]
    },
    {
      "cell_type": "markdown",
      "metadata": {
        "id": "LxPvTOXYNEE9"
      },
      "source": [
        "# **Data Elements**\n",
        "\n",
        "- Tag: (group#, element#)\n",
        "- VR: Value Representation\n",
        "\n",
        "| Tag | Name | VR | Value |\n",
        "|---|---|:---:|---|\n",
        "|(0008, 0005)|Specific Character Set|CS|'ISO_IR 100'|\n"
      ]
    },
    {
      "cell_type": "code",
      "metadata": {
        "colab": {
          "base_uri": "https://localhost:8080/"
        },
        "id": "ObTb35GTkuMd",
        "outputId": "b141ce55-c7ff-412f-9607-796d5683500a"
      },
      "source": [
        "print(dataset)"
      ],
      "execution_count": null,
      "outputs": [
        {
          "output_type": "stream",
          "text": [
            "Dataset.file_meta -------------------------------\n",
            "(0002, 0000) File Meta Information Group Length  UL: 192\n",
            "(0002, 0001) File Meta Information Version       OB: b'\\x00\\x01'\n",
            "(0002, 0002) Media Storage SOP Class UID         UI: CT Image Storage\n",
            "(0002, 0003) Media Storage SOP Instance UID      UI: 1.3.6.1.4.1.5962.1.1.1.1.1.20040119072730.12322\n",
            "(0002, 0010) Transfer Syntax UID                 UI: Explicit VR Little Endian\n",
            "(0002, 0012) Implementation Class UID            UI: 1.3.6.1.4.1.5962.2\n",
            "(0002, 0013) Implementation Version Name         SH: 'DCTOOL100'\n",
            "(0002, 0016) Source Application Entity Title     AE: 'CLUNIE1'\n",
            "-------------------------------------------------\n",
            "(0008, 0005) Specific Character Set              CS: 'ISO_IR 100'\n",
            "(0008, 0008) Image Type                          CS: ['ORIGINAL', 'PRIMARY', 'AXIAL']\n",
            "(0008, 0012) Instance Creation Date              DA: '20040119'\n",
            "(0008, 0013) Instance Creation Time              TM: '072731'\n",
            "(0008, 0014) Instance Creator UID                UI: 1.3.6.1.4.1.5962.3\n",
            "(0008, 0016) SOP Class UID                       UI: CT Image Storage\n",
            "(0008, 0018) SOP Instance UID                    UI: 1.3.6.1.4.1.5962.1.1.1.1.1.20040119072730.12322\n",
            "(0008, 0020) Study Date                          DA: '20040119'\n",
            "(0008, 0021) Series Date                         DA: '19970430'\n",
            "(0008, 0022) Acquisition Date                    DA: '19970430'\n",
            "(0008, 0023) Content Date                        DA: '19970430'\n",
            "(0008, 0030) Study Time                          TM: '072730'\n",
            "(0008, 0031) Series Time                         TM: '112749'\n",
            "(0008, 0032) Acquisition Time                    TM: '112936'\n",
            "(0008, 0033) Content Time                        TM: '113008'\n",
            "(0008, 0050) Accession Number                    SH: ''\n",
            "(0008, 0060) Modality                            CS: 'CT'\n",
            "(0008, 0070) Manufacturer                        LO: 'GE MEDICAL SYSTEMS'\n",
            "(0008, 0080) Institution Name                    LO: 'JFK IMAGING CENTER'\n",
            "(0008, 0090) Referring Physician's Name          PN: ''\n",
            "(0008, 0201) Timezone Offset From UTC            SH: '-0500'\n",
            "(0008, 1010) Station Name                        SH: 'CT01_OC0'\n",
            "(0008, 1030) Study Description                   LO: 'e+1'\n",
            "(0008, 1090) Manufacturer's Model Name           LO: 'RHAPSODE'\n",
            "(0009, 0010) Private Creator                     LO: 'GEMS_IDEN_01'\n",
            "(0009, 1001) [Full fidelity]                     LO: 'GE_GENESIS_FF'\n",
            "(0009, 1002) [Suite id]                          SH: 'CT01'\n",
            "(0009, 1004) [Product id]                        SH: 'HiSpeed CT/i'\n",
            "(0009, 1027) [Image actual date]                 SL: 862399669\n",
            "(0009, 1030) [Service id]                        SH: ''\n",
            "(0009, 1031) [Mobile location number]            SH: ''\n",
            "(0009, 10e6) [Genesis Version - now]             SH: '05'\n",
            "(0009, 10e7) [Exam Record checksum]              UL: 973283917\n",
            "(0009, 10e9) [Actual series data time stamp]     SL: 862399669\n",
            "(0010, 0010) Patient's Name                      PN: 'CompressedSamples^CT1'\n",
            "(0010, 0020) Patient ID                          LO: '1CT1'\n",
            "(0010, 0030) Patient's Birth Date                DA: ''\n",
            "(0010, 0040) Patient's Sex                       CS: 'O'\n",
            "(0010, 1002)  Other Patient IDs Sequence  2 item(s) ---- \n",
            "   (0010, 0020) Patient ID                          LO: 'ABCD1234'\n",
            "   (0010, 0022) Type of Patient ID                  CS: 'TEXT'\n",
            "   ---------\n",
            "   (0010, 0020) Patient ID                          LO: '1234ABCD'\n",
            "   (0010, 0022) Type of Patient ID                  CS: 'TEXT'\n",
            "   ---------\n",
            "(0010, 1010) Patient's Age                       AS: '000Y'\n",
            "(0010, 1030) Patient's Weight                    DS: '0.0'\n",
            "(0010, 21b0) Additional Patient History          LT: ''\n",
            "(0011, 0010) Private Creator                     LO: 'GEMS_PATI_01'\n",
            "(0011, 1010) [Patient Status]                    SS: 0\n",
            "(0018, 0010) Contrast/Bolus Agent                LO: 'ISOVUE300/100'\n",
            "(0018, 0022) Scan Options                        CS: 'HELICAL MODE'\n",
            "(0018, 0050) Slice Thickness                     DS: '5.0'\n",
            "(0018, 0060) KVP                                 DS: '120.0'\n",
            "(0018, 0088) Spacing Between Slices              DS: '5.0'\n",
            "(0018, 0090) Data Collection Diameter            DS: '480.0'\n",
            "(0018, 1020) Software Versions                   LO: '05'\n",
            "(0018, 1040) Contrast/Bolus Route                LO: 'IV'\n",
            "(0018, 1100) Reconstruction Diameter             DS: '338.6716'\n",
            "(0018, 1110) Distance Source to Detector         DS: '1099.3100585938'\n",
            "(0018, 1111) Distance Source to Patient          DS: '630.0'\n",
            "(0018, 1120) Gantry/Detector Tilt                DS: '0.0'\n",
            "(0018, 1130) Table Height                        DS: '133.699997'\n",
            "(0018, 1150) Exposure Time                       IS: '1601'\n",
            "(0018, 1151) X-Ray Tube Current                  IS: '170'\n",
            "(0018, 1152) Exposure                            IS: '170'\n",
            "(0018, 1160) Filter Type                         SH: 'LARGE BOWTIE FIL'\n",
            "(0018, 1190) Focal Spot(s)                       DS: '0.7'\n",
            "(0018, 1210) Convolution Kernel                  SH: 'STANDARD'\n",
            "(0018, 5100) Patient Position                    CS: 'FFS'\n",
            "(0019, 0010) Private Creator                     LO: 'GEMS_ACQU_01'\n",
            "(0019, 1002) [Detector Channel]                  SL: 912\n",
            "(0019, 1003) [Cell number at Theta]              DS: '373.75'\n",
            "(0019, 1004) [Cell spacing]                      DS: '1.0166'\n",
            "(0019, 100f) [Horiz. Frame of ref.]              DS: '955.799988'\n",
            "(0019, 1011) [Series contrast]                   SS: 2\n",
            "(0019, 1013) [Start number for baseline]         SS: 0\n",
            "(0019, 1014) [End number for baseline]           SS: 0\n",
            "(0019, 1015) [Start number for enhanced scans]   SS: 0\n",
            "(0019, 1016) [End number for enhanced scans]     SS: 0\n",
            "(0019, 1017) [Series plane]                      SS: 2\n",
            "(0019, 1018) [First scan ras]                    LO: 'S'\n",
            "(0019, 1019) [First scan location]               DS: '7.79187'\n",
            "(0019, 101a) [Last scan ras]                     LO: 'I'\n",
            "(0019, 101b) [Last scan loc]                     DS: '-320.197968'\n",
            "(0019, 101e) [Display field of view]             DS: '0.0'\n",
            "(0019, 1023) [Table Speed [mm/rotation]]         DS: '5.0'\n",
            "(0019, 1024) [Mid Scan Time [sec]]               DS: '17.784578'\n",
            "(0019, 1025) [Mid scan flag]                     SS: 1\n",
            "(0019, 1026) [Tube Azimuth [degree]]             SL: 0\n",
            "(0019, 1027) [Rotation Speed [msec]]             DS: '1.0'\n",
            "(0019, 102a) [x-ray On position]                 DS: '178.079926'\n",
            "(0019, 102b) [x-ray Off position]                DS: '3994.299316'\n",
            "(0019, 102c) [Number of triggers]                SL: 10431\n",
            "(0019, 102e) [Angle of first view]               DS: '-718.079956'\n",
            "(0019, 102f) [Trigger frequency]                 DS: '984.0'\n",
            "(0019, 1039) [SFOV Type]                         SS: 16\n",
            "(0019, 1040) [Stat recon flag]                   SS: 0\n",
            "(0019, 1041) [Compute type]                      SS: 1\n",
            "(0019, 1042) [Segment Number]                    SS: 0\n",
            "(0019, 1043) [Total Segments Required]           SS: 0\n",
            "(0019, 1044) [Interscan delay]                   DS: '1.0'\n",
            "(0019, 1047) [View compression factor]           SS: 1\n",
            "(0019, 104a) [Total no. of ref channels]         SS: 6\n",
            "(0019, 104b) [Data size for scan data]           SL: 10431\n",
            "(0019, 1052) [Recon post proc. Flag]             SS: 1\n",
            "(0019, 1057) [CT water number]                   SS: -95\n",
            "(0019, 1058) [CT bone number]                    SS: 0\n",
            "(0019, 105e) [Number of channels (1...512)]      SL: 763\n",
            "(0019, 105f) [Increment between channels]        SL: 1\n",
            "(0019, 1060) [Starting view]                     SL: 1969\n",
            "(0019, 1061) [Number of views]                   SL: 1576\n",
            "(0019, 1062) [Increment between views]           SL: 1\n",
            "(0019, 106a) [Dependent on #views processed]     SS: 4\n",
            "(0019, 106b) [Field of view in detector cells]   SS: 852\n",
            "(0019, 1070) [Value of back projection button]   SS: 1\n",
            "(0019, 1071) [Set if fatq estimates were used]   SS: 0\n",
            "(0019, 1072) [Z chan avg over views]             DS: '0.0'\n",
            "(0019, 1073) [Avg of left ref chans over views]  DS: '0.0'\n",
            "(0019, 1074) [Max left chan over views]          DS: '0.0'\n",
            "(0019, 1075) [Avg of right ref chans over views] DS: '0.0'\n",
            "(0019, 1076) [Max right chan over views]         DS: '0.0'\n",
            "(0019, 10da) [Reference channel used]            SS: 0\n",
            "(0019, 10db) [Back projector coefficient]        DS: '0.0'\n",
            "(0019, 10dc) [Primary speed correction used]     SS: 1\n",
            "(0019, 10dd) [Overrange correction used]         SS: 1\n",
            "(0019, 10de) [Dynamic Z alpha value]             DS: '0.0'\n",
            "(0020, 000d) Study Instance UID                  UI: 1.3.6.1.4.1.5962.1.2.1.20040119072730.12322\n",
            "(0020, 000e) Series Instance UID                 UI: 1.3.6.1.4.1.5962.1.3.1.1.20040119072730.12322\n",
            "(0020, 0010) Study ID                            SH: '1CT1'\n",
            "(0020, 0011) Series Number                       IS: '1'\n",
            "(0020, 0012) Acquisition Number                  IS: '2'\n",
            "(0020, 0013) Instance Number                     IS: '1'\n",
            "(0020, 0032) Image Position (Patient)            DS: [-158.135803, -179.035797, -75.699997]\n",
            "(0020, 0037) Image Orientation (Patient)         DS: [1.000000, 0.000000, 0.000000, 0.000000, 1.000000, 0.000000]\n",
            "(0020, 0052) Frame of Reference UID              UI: 1.3.6.1.4.1.5962.1.4.1.1.20040119072730.12322\n",
            "(0020, 0060) Laterality                          CS: ''\n",
            "(0020, 1040) Position Reference Indicator        LO: 'SN'\n",
            "(0020, 1041) Slice Location                      DS: '-77.2040634155'\n",
            "(0020, 4000) Image Comments                      LT: 'Uncompressed'\n",
            "(0021, 0010) Private Creator                     LO: 'GEMS_RELA_01'\n",
            "(0021, 1003) [Series from which Prescribed]      SS: 2\n",
            "(0021, 1005) [Genesis Version - now]             SH: '05'\n",
            "(0021, 1007) [Series Record checksum]            UL: 1605775145\n",
            "(0021, 1015) [Unknown]                           US: 24078\n",
            "(0021, 1016) [Unknown]                           SS: 2\n",
            "(0021, 1018) [Genesis version - Now]             SH: '05'\n",
            "(0021, 1019) [Acq recon record checksum]         UL: 750675506\n",
            "(0021, 1037) [Screen Format]                     SS: 16\n",
            "(0021, 104a) [Anatomical reference for scout]    LO: ''\n",
            "(0021, 1090) [Tube focal spot position]          SS: 7400\n",
            "(0021, 1091) [Biopsy position]                   SS: 0\n",
            "(0021, 1092) [Biopsy T location]                 FL: 0.0\n",
            "(0021, 1093) [Biopsy ref location]               FL: 0.0\n",
            "(0023, 0010) Private Creator                     LO: 'GEMS_STDY_01'\n",
            "(0023, 1070) [Start time(secs) in first axial]   FD: 862399761.111079\n",
            "(0023, 1074) [No. of updates to header]          SL: 1\n",
            "(0023, 107d) [Indicates study has complete info  SS: 0\n",
            "(0025, 0010) Private Creator                     LO: 'GEMS_SERS_01'\n",
            "(0025, 1006) [Last pulse sequence used]          SS: 0\n",
            "(0025, 1007) [Images in Series]                  SL: 44\n",
            "(0025, 1010) [Landmark Counter]                  SL: 0\n",
            "(0025, 1011) [Number of Acquisitions]            SS: 0\n",
            "(0025, 1017) [Series Complete Flag]              SL: 0\n",
            "(0025, 1018) [Number of images archived]         SL: 0\n",
            "(0025, 1019) [Last image number used]            SL: 4\n",
            "(0025, 101a) [Primary Receiver Suite and Host]   SH: ''\n",
            "(0027, 0010) Private Creator                     LO: 'GEMS_IMAG_01'\n",
            "(0027, 1006) [Image archive flag]                SL: 1\n",
            "(0027, 1010) [Scout Type]                        SS: 0\n",
            "(0027, 101c) [Vma mamp]                          SL: 150\n",
            "(0027, 101d) [Vma phase]                         SS: 1\n",
            "(0027, 101e) [Vma mod]                           SL: 24\n",
            "(0027, 101f) [Vma clip]                          SL: 129\n",
            "(0027, 1020) [Smart scan ON/OFF flag]            SS: 1\n",
            "(0027, 1030) [Foreign Image Revision]            SH: ''\n",
            "(0027, 1035) [Plane Type]                        SS: 2\n",
            "(0027, 1040) [RAS letter of image location]      SH: 'I'\n",
            "(0027, 1041) [Image location]                    FL: -77.20406341552734\n",
            "(0027, 1042) [Center R coord of plane image]     FL: -11.199999809265137\n",
            "(0027, 1043) [Center A coord of plane image]     FL: 9.699999809265137\n",
            "(0027, 1044) [Center S coord of plane image]     FL: -75.69999694824219\n",
            "(0027, 1045) [Normal R coord]                    FL: 0.0\n",
            "(0027, 1046) [Normal A coord]                    FL: 0.0\n",
            "(0027, 1047) [Normal S coord]                    FL: -1.0\n",
            "(0027, 1048) [R Coord of Top Right Corner]       FL: -180.53579711914062\n",
            "(0027, 1049) [A Coord of Top Right Corner]       FL: 179.03579711914062\n",
            "(0027, 104a) [S Coord of Top Right Corner]       FL: -75.69999694824219\n",
            "(0027, 104b) [R Coord of Bottom Right Corner]    FL: -180.53579711914062\n",
            "(0027, 104c) [A Coord of Bottom Right Corner]    FL: -159.63580322265625\n",
            "(0027, 104d) [S Coord of Bottom Right Corner]    FL: -75.69999694824219\n",
            "(0027, 1050) [Scan Start Location]               FL: -63.19999694824219\n",
            "(0027, 1051) [Scan End Location]                 FL: -116.20304870605469\n",
            "(0027, 1052) [RAS letter for side of image]      SH: 'L'\n",
            "(0027, 1053) [RAS letter for anterior/posterior] SH: 'A'\n",
            "(0027, 1054) [RAS letter for scout start loc]    SH: 'I'\n",
            "(0027, 1055) [RAS letter for scout end loc]      SH: 'I'\n",
            "(0028, 0002) Samples per Pixel                   US: 1\n",
            "(0028, 0004) Photometric Interpretation          CS: 'MONOCHROME2'\n",
            "(0028, 0010) Rows                                US: 128\n",
            "(0028, 0011) Columns                             US: 128\n",
            "(0028, 0030) Pixel Spacing                       DS: [0.661468, 0.661468]\n",
            "(0028, 0100) Bits Allocated                      US: 16\n",
            "(0028, 0101) Bits Stored                         US: 16\n",
            "(0028, 0102) High Bit                            US: 15\n",
            "(0028, 0103) Pixel Representation                US: 1\n",
            "(0028, 0120) Pixel Padding Value                 SS: -2000\n",
            "(0028, 1052) Rescale Intercept                   DS: '-1024.0'\n",
            "(0028, 1053) Rescale Slope                       DS: '1.0'\n",
            "(0029, 0010) Private Creator                     LO: 'GEMS_IMPS_01'\n",
            "(0029, 1004) [Lower range of Pixels1]            SL: 0\n",
            "(0029, 1005) [Lower range of Pixels1]            DS: '0.0'\n",
            "(0029, 1006) [Lower range of Pixels1]            DS: '0.0'\n",
            "(0029, 1007) [Lower range of Pixels1]            SL: 87\n",
            "(0029, 1008) [Lower range of Pixels1]            SH: ''\n",
            "(0029, 1009) [Lower range of Pixels1]            SH: ''\n",
            "(0029, 100a) [Lower range of Pixels1]            SS: 764\n",
            "(0029, 1026) [Version of the hdr struct]         SS: 2\n",
            "(0029, 1034) [Advantage comp. Overflow]          SL: 0\n",
            "(0029, 1035) [Advantage comp. Underflow]         SL: 0\n",
            "(0043, 0010) Private Creator                     LO: 'GEMS_PARM_01'\n",
            "(0043, 1010) [Window value]                      US: 400\n",
            "(0043, 1011) [Total input views]                 US: 10431\n",
            "(0043, 1012) [X-ray chain]                       SS: [14, 2, 3]\n",
            "(0043, 1013) [Decon kernel parameters]           SS: [107, 21, 4, 2, 20]\n",
            "(0043, 1014) [Calibration parameters]            SS: [4, 4, 5]\n",
            "(0043, 1015) [Total output views]                SS: 10431\n",
            "(0043, 1016) [Number of overranges]              SS: 0\n",
            "(0043, 1017) [IBH image scale factors]           DS: '0.095'\n",
            "(0043, 1018) [BBH coefficients]                  DS: [0.085000, 1.102000, 0.095000]\n",
            "(0043, 1019) [Number of BBH chains to blend]     SS: 350\n",
            "(0043, 101a) [Starting channel number]           SL: 7\n",
            "(0043, 101b) [Ppscan parameters]                 SS: [0, 0, 0, 0, 0]\n",
            "(0043, 101c) [GE image integrity]                SS: 0\n",
            "(0043, 101d) [Level value]                       SS: 40\n",
            "(0043, 101e) [Delta Start Time [msec]]           DS: '2.0'\n",
            "(0043, 101f) [Max overranges in a view]          SL: 0\n",
            "(0043, 1020) [Avg overranges all views]          DS: '0.0'\n",
            "(0043, 1021) [Corrected after glow terms]        SS: 0\n",
            "(0043, 1025) [Reference channels]                SS: [1, 2, 3, 748, 749, 750]\n",
            "(0043, 1026) [No views ref chans blocked]        US: [0, 1, 1, 0, 0, 0]\n",
            "(0043, 1027) [Scan Pitch Ratio]                  SH: '/1.0:1'\n",
            "(0043, 1028) [Unique image iden]                 OB: Array of 80 elements\n",
            "(0043, 1029) [Histogram tables]                  OB: Array of 2068 elements\n",
            "(0043, 102a) [User defined data]                 OB: Array of 40 elements\n",
            "(0043, 102b) [Private Scan Options]              SS: [4, 4, 0, 0]\n",
            "(0043, 1031) [Recon Center Coordinates]          DS: [-11.200000, 9.700000]\n",
            "(0043, 1040) [Trigger on position]               FL: 178.07992553710938\n",
            "(0043, 1041) [Degree of rotation]                FL: 3816.219482421875\n",
            "(0043, 1042) [DAS trigger source]                SL: 0\n",
            "(0043, 1043) [DAS fpa gain]                      SL: 0\n",
            "(0043, 1044) [DAS output source]                 SL: 1\n",
            "(0043, 1045) [DAS ad input]                      SL: 1\n",
            "(0043, 1046) [DAS cal mode]                      SL: 3\n",
            "(0043, 1047) [DAS cal frequency]                 SL: -1\n",
            "(0043, 1048) [DAS reg xm]                        SL: 1\n",
            "(0043, 1049) [DAS auto zero]                     SL: 0\n",
            "(0043, 104a) [Starting channel of view]          SS: 1\n",
            "(0043, 104b) [DAS xm pattern]                    SL: 0\n",
            "(0043, 104c) [TGGC trigger mode]                 SS: 0\n",
            "(0043, 104d) [Start scan to X-ray on delay]      FL: 0.0\n",
            "(0043, 104e) [Duration of X-ray on]              FL: 10.60060977935791\n",
            "(7fe0, 0010) Pixel Data                          OW: Array of 32768 elements\n",
            "(fffc, fffc) Data Set Trailing Padding           OB: Array of 126 elements\n"
          ],
          "name": "stdout"
        }
      ]
    },
    {
      "cell_type": "markdown",
      "metadata": {
        "id": "xyaBsaOwVUUB"
      },
      "source": [
        "## Standard elements"
      ]
    },
    {
      "cell_type": "code",
      "metadata": {
        "colab": {
          "base_uri": "https://localhost:8080/"
        },
        "id": "eneSZHUbXfWy",
        "outputId": "c916afa3-94bb-4b22-fd25-5e85afbbb9b3"
      },
      "source": [
        "dir(dataset)"
      ],
      "execution_count": null,
      "outputs": [
        {
          "output_type": "execute_result",
          "data": {
            "text/plain": [
              "['AccessionNumber',\n",
              " 'AcquisitionDate',\n",
              " 'AcquisitionNumber',\n",
              " 'AcquisitionTime',\n",
              " 'AdditionalPatientHistory',\n",
              " 'BitsAllocated',\n",
              " 'BitsStored',\n",
              " 'Columns',\n",
              " 'ContentDate',\n",
              " 'ContentTime',\n",
              " 'ContrastBolusAgent',\n",
              " 'ContrastBolusRoute',\n",
              " 'ConvolutionKernel',\n",
              " 'DataCollectionDiameter',\n",
              " 'DataSetTrailingPadding',\n",
              " 'DistanceSourceToDetector',\n",
              " 'DistanceSourceToPatient',\n",
              " 'Exposure',\n",
              " 'ExposureTime',\n",
              " 'FilterType',\n",
              " 'FocalSpots',\n",
              " 'FrameOfReferenceUID',\n",
              " 'GantryDetectorTilt',\n",
              " 'HighBit',\n",
              " 'ImageComments',\n",
              " 'ImageOrientationPatient',\n",
              " 'ImagePositionPatient',\n",
              " 'ImageType',\n",
              " 'InstanceCreationDate',\n",
              " 'InstanceCreationTime',\n",
              " 'InstanceCreatorUID',\n",
              " 'InstanceNumber',\n",
              " 'InstitutionName',\n",
              " 'KVP',\n",
              " 'Laterality',\n",
              " 'Manufacturer',\n",
              " 'ManufacturerModelName',\n",
              " 'Modality',\n",
              " 'OtherPatientIDsSequence',\n",
              " 'PatientAge',\n",
              " 'PatientBirthDate',\n",
              " 'PatientID',\n",
              " 'PatientName',\n",
              " 'PatientPosition',\n",
              " 'PatientSex',\n",
              " 'PatientWeight',\n",
              " 'PhotometricInterpretation',\n",
              " 'PixelData',\n",
              " 'PixelPaddingValue',\n",
              " 'PixelRepresentation',\n",
              " 'PixelSpacing',\n",
              " 'PositionReferenceIndicator',\n",
              " 'ReconstructionDiameter',\n",
              " 'ReferringPhysicianName',\n",
              " 'RescaleIntercept',\n",
              " 'RescaleSlope',\n",
              " 'Rows',\n",
              " 'SOPClassUID',\n",
              " 'SOPInstanceUID',\n",
              " 'SamplesPerPixel',\n",
              " 'ScanOptions',\n",
              " 'SeriesDate',\n",
              " 'SeriesInstanceUID',\n",
              " 'SeriesNumber',\n",
              " 'SeriesTime',\n",
              " 'SliceLocation',\n",
              " 'SliceThickness',\n",
              " 'SoftwareVersions',\n",
              " 'SpacingBetweenSlices',\n",
              " 'SpecificCharacterSet',\n",
              " 'StationName',\n",
              " 'StudyDate',\n",
              " 'StudyDescription',\n",
              " 'StudyID',\n",
              " 'StudyInstanceUID',\n",
              " 'StudyTime',\n",
              " 'TableHeight',\n",
              " 'TimezoneOffsetFromUTC',\n",
              " 'XRayTubeCurrent',\n",
              " '__array__',\n",
              " '__contains__',\n",
              " '__copy__',\n",
              " '__deepcopy__',\n",
              " '__delattr__',\n",
              " '__delitem__',\n",
              " '__dir__',\n",
              " '__enter__',\n",
              " '__eq__',\n",
              " '__exit__',\n",
              " '__format__',\n",
              " '__ge__',\n",
              " '__getattr__',\n",
              " '__getattribute__',\n",
              " '__getitem__',\n",
              " '__getstate__',\n",
              " '__gt__',\n",
              " '__init__',\n",
              " '__init_subclass__',\n",
              " '__iter__',\n",
              " '__le__',\n",
              " '__len__',\n",
              " '__lt__',\n",
              " '__ne__',\n",
              " '__new__',\n",
              " '__reduce__',\n",
              " '__reduce_ex__',\n",
              " '__repr__',\n",
              " '__setattr__',\n",
              " '__setitem__',\n",
              " '__setstate__',\n",
              " '__sizeof__',\n",
              " '__str__',\n",
              " '__subclasshook__',\n",
              " '__weakref__',\n",
              " '_character_set',\n",
              " '_convert_pixel_data_using_handler',\n",
              " '_convert_pixel_data_without_handler',\n",
              " '_copy_implementation',\n",
              " '_dataset_slice',\n",
              " '_do_pixel_data_conversion',\n",
              " '_pretty_str',\n",
              " '_set_file_meta',\n",
              " '_slice_dataset',\n",
              " 'add',\n",
              " 'add_new',\n",
              " 'clear',\n",
              " 'compress',\n",
              " 'convert_pixel_data',\n",
              " 'copy',\n",
              " 'data_element',\n",
              " 'decode',\n",
              " 'decompress',\n",
              " 'dir',\n",
              " 'elements',\n",
              " 'ensure_file_meta',\n",
              " 'fix_meta_info',\n",
              " 'formatted_lines',\n",
              " 'from_json',\n",
              " 'get',\n",
              " 'get_item',\n",
              " 'get_private_item',\n",
              " 'group_dataset',\n",
              " 'is_original_encoding',\n",
              " 'items',\n",
              " 'iterall',\n",
              " 'keys',\n",
              " 'overlay_array',\n",
              " 'pixel_array',\n",
              " 'pop',\n",
              " 'popitem',\n",
              " 'private_block',\n",
              " 'private_creators',\n",
              " 'remove_private_tags',\n",
              " 'save_as',\n",
              " 'set_original_encoding',\n",
              " 'setdefault',\n",
              " 'to_json',\n",
              " 'to_json_dict',\n",
              " 'top',\n",
              " 'trait_names',\n",
              " 'update',\n",
              " 'values',\n",
              " 'walk',\n",
              " 'waveform_array']"
            ]
          },
          "metadata": {
            "tags": []
          },
          "execution_count": 7
        }
      ]
    },
    {
      "cell_type": "code",
      "metadata": {
        "colab": {
          "base_uri": "https://localhost:8080/"
        },
        "id": "Qi2riSsGfnh7",
        "outputId": "c57b7a61-9de0-4457-e3b6-23f122a28bbe"
      },
      "source": [
        "print(f\"Patient's Name...: {dataset.PatientName}\")\n",
        "print(f\"Patient ID.......: {dataset.PatientID}\")\n",
        "print(f\"Modality.........: {dataset.Modality}\")\n",
        "print(f\"Study Date.......: {dataset.StudyDate}\")\n",
        "print(f\"Image size.......: {dataset.Rows} x {dataset.Columns}\")\n",
        "print(f\"Pixel Spacing....: {dataset.PixelSpacing}\")"
      ],
      "execution_count": null,
      "outputs": [
        {
          "output_type": "stream",
          "text": [
            "Patient's Name...: CompressedSamples^CT1\n",
            "Patient ID.......: 1CT1\n",
            "Modality.........: CT\n",
            "Study Date.......: 20040119\n",
            "Image size.......: 128 x 128\n",
            "Pixel Spacing....: [0.661468, 0.661468]\n"
          ],
          "name": "stdout"
        }
      ]
    },
    {
      "cell_type": "markdown",
      "metadata": {
        "id": "kz2gZI1ee36V"
      },
      "source": [
        "## Single-valued elements"
      ]
    },
    {
      "cell_type": "code",
      "metadata": {
        "colab": {
          "base_uri": "https://localhost:8080/"
        },
        "id": "WcF8oVILc83p",
        "outputId": "55125fae-72cb-41ca-afd6-02145a059427"
      },
      "source": [
        "dataset.PatientName = 'Citizen^snips'\n",
        "dataset.PatientName"
      ],
      "execution_count": null,
      "outputs": [
        {
          "output_type": "execute_result",
          "data": {
            "text/plain": [
              "'Citizen^snips'"
            ]
          },
          "metadata": {
            "tags": []
          },
          "execution_count": 9
        }
      ]
    },
    {
      "cell_type": "code",
      "metadata": {
        "colab": {
          "base_uri": "https://localhost:8080/"
        },
        "id": "dchJ6qJKYzQy",
        "outputId": "457a0467-9daf-43b3-b4a9-a1977b06e883"
      },
      "source": [
        "print('WindowCenter' in dataset) # (0028,1050)\n",
        "print('WindowWidth' in dataset) #(0028,1051)"
      ],
      "execution_count": null,
      "outputs": [
        {
          "output_type": "stream",
          "text": [
            "False\n",
            "False\n"
          ],
          "name": "stdout"
        }
      ]
    },
    {
      "cell_type": "code",
      "metadata": {
        "colab": {
          "base_uri": "https://localhost:8080/"
        },
        "id": "-3VZOci6Ye4u",
        "outputId": "0c4304ed-f7c4-4829-9c29-35fd9a540223"
      },
      "source": [
        "dataset.WindowCenter = 100\n",
        "dataset['WindowCenter']"
      ],
      "execution_count": null,
      "outputs": [
        {
          "output_type": "execute_result",
          "data": {
            "text/plain": [
              "(0028, 1050) Window Center                       DS: '100.0'"
            ]
          },
          "metadata": {
            "tags": []
          },
          "execution_count": 11
        }
      ]
    },
    {
      "cell_type": "code",
      "metadata": {
        "colab": {
          "base_uri": "https://localhost:8080/"
        },
        "id": "wL93ZaGBa2nz",
        "outputId": "c22740a8-95cc-43fa-9e01-e0a8085703f4"
      },
      "source": [
        "from pydicom.datadict import dictionary_VR\n",
        "dataset.add_new([0x0028,0x1051], dictionary_VR([0x0028,0x1051]), '500.0')\n",
        "dataset[0x0028,0x1051]"
      ],
      "execution_count": null,
      "outputs": [
        {
          "output_type": "execute_result",
          "data": {
            "text/plain": [
              "(0028, 1051) Window Width                        DS: '500.0'"
            ]
          },
          "metadata": {
            "tags": []
          },
          "execution_count": 12
        }
      ]
    },
    {
      "cell_type": "code",
      "metadata": {
        "colab": {
          "base_uri": "https://localhost:8080/"
        },
        "id": "gB9ELwfAceYI",
        "outputId": "fc2e3ecf-78af-4796-c93c-263be99d2c66"
      },
      "source": [
        "del dataset.WindowCenter\n",
        "del dataset[0x0028,0x1051]\n",
        "print('WindowCenter' in dataset) # (0028,1050)\n",
        "print('WindowWidth' in dataset) #(0028,1051)"
      ],
      "execution_count": null,
      "outputs": [
        {
          "output_type": "stream",
          "text": [
            "False\n",
            "False\n"
          ],
          "name": "stdout"
        }
      ]
    },
    {
      "cell_type": "markdown",
      "metadata": {
        "id": "_Gyxa94Fe-MU"
      },
      "source": [
        "## Multi-valued elements"
      ]
    },
    {
      "cell_type": "code",
      "metadata": {
        "colab": {
          "base_uri": "https://localhost:8080/"
        },
        "id": "qSWdUHotdCay",
        "outputId": "1211b6c9-cefa-4e89-df65-59b8f8d3c8ae"
      },
      "source": [
        "dataset.ImageType"
      ],
      "execution_count": null,
      "outputs": [
        {
          "output_type": "execute_result",
          "data": {
            "text/plain": [
              "['ORIGINAL', 'PRIMARY', 'AXIAL']"
            ]
          },
          "metadata": {
            "tags": []
          },
          "execution_count": 14
        }
      ]
    },
    {
      "cell_type": "code",
      "metadata": {
        "colab": {
          "base_uri": "https://localhost:8080/"
        },
        "id": "rSr7STlPdP1U",
        "outputId": "26fe2c9d-dc0c-4d5e-b3c1-2d5d930ab533"
      },
      "source": [
        "dataset.ImageType[1] = 'DERIVED'\n",
        "dataset.ImageType"
      ],
      "execution_count": null,
      "outputs": [
        {
          "output_type": "execute_result",
          "data": {
            "text/plain": [
              "['ORIGINAL', 'DERIVED', 'AXIAL']"
            ]
          },
          "metadata": {
            "tags": []
          },
          "execution_count": 15
        }
      ]
    },
    {
      "cell_type": "code",
      "metadata": {
        "colab": {
          "base_uri": "https://localhost:8080/"
        },
        "id": "y3N30D5EdX0c",
        "outputId": "4d45a3e7-27b3-437f-c469-ce01bf26885d"
      },
      "source": [
        "dataset.ImageType.insert(1, 'PRIMARY')\n",
        "dataset.ImageType"
      ],
      "execution_count": null,
      "outputs": [
        {
          "output_type": "execute_result",
          "data": {
            "text/plain": [
              "['ORIGINAL', 'PRIMARY', 'DERIVED', 'AXIAL']"
            ]
          },
          "metadata": {
            "tags": []
          },
          "execution_count": 16
        }
      ]
    },
    {
      "cell_type": "code",
      "metadata": {
        "colab": {
          "base_uri": "https://localhost:8080/"
        },
        "id": "q8k-Ni22fWgt",
        "outputId": "3eb5a2f3-3f43-4c89-ee4e-9f145ac431f4"
      },
      "source": [
        "del dataset.ImageType[2]\n",
        "dataset.ImageType"
      ],
      "execution_count": null,
      "outputs": [
        {
          "output_type": "execute_result",
          "data": {
            "text/plain": [
              "['ORIGINAL', 'PRIMARY', 'AXIAL']"
            ]
          },
          "metadata": {
            "tags": []
          },
          "execution_count": 17
        }
      ]
    },
    {
      "cell_type": "markdown",
      "metadata": {
        "id": "ofd97afUfCXE"
      },
      "source": [
        "## Sequences"
      ]
    },
    {
      "cell_type": "markdown",
      "metadata": {
        "id": "j-JVmROVVYDz"
      },
      "source": [
        "sequence items are also Dataset instance"
      ]
    },
    {
      "cell_type": "code",
      "metadata": {
        "colab": {
          "base_uri": "https://localhost:8080/"
        },
        "id": "tvfwTOHphWU2",
        "outputId": "f282babe-f196-4e55-e9ee-62efcfc027fc"
      },
      "source": [
        "for s in dataset.OtherPatientIDsSequence:\n",
        "  print(s)"
      ],
      "execution_count": null,
      "outputs": [
        {
          "output_type": "stream",
          "text": [
            "(0010, 0020) Patient ID                          LO: 'ABCD1234'\n",
            "(0010, 0022) Type of Patient ID                  CS: 'TEXT'\n",
            "(0010, 0020) Patient ID                          LO: '1234ABCD'\n",
            "(0010, 0022) Type of Patient ID                  CS: 'TEXT'\n"
          ],
          "name": "stdout"
        }
      ]
    },
    {
      "cell_type": "code",
      "metadata": {
        "id": "vhUM4nSuVb8f"
      },
      "source": [
        "from pydicom.dataset import Dataset\n",
        "\n",
        "seq = dataset.OtherPatientIDsSequence\n",
        "seq += [Dataset()]\n",
        "seq[2].PatientID = '12ABCD34'\n",
        "seq[2].TypeOfPatientID = 'TEXT'"
      ],
      "execution_count": null,
      "outputs": []
    },
    {
      "cell_type": "code",
      "metadata": {
        "colab": {
          "base_uri": "https://localhost:8080/"
        },
        "id": "IYhlmdYohF_t",
        "outputId": "1e9112f5-3650-4e84-fa15-075e36623dc6"
      },
      "source": [
        "for s in dataset.OtherPatientIDsSequence:\n",
        "  print(s)"
      ],
      "execution_count": null,
      "outputs": [
        {
          "output_type": "stream",
          "text": [
            "(0010, 0020) Patient ID                          LO: 'ABCD1234'\n",
            "(0010, 0022) Type of Patient ID                  CS: 'TEXT'\n",
            "(0010, 0020) Patient ID                          LO: '1234ABCD'\n",
            "(0010, 0022) Type of Patient ID                  CS: 'TEXT'\n",
            "(0010, 0020) Patient ID                          LO: '12ABCD34'\n",
            "(0010, 0022) Type of Patient ID                  CS: 'TEXT'\n"
          ],
          "name": "stdout"
        }
      ]
    },
    {
      "cell_type": "code",
      "metadata": {
        "colab": {
          "base_uri": "https://localhost:8080/"
        },
        "id": "pofDqbQAhiOV",
        "outputId": "08adbb58-ac7d-4211-89c0-7b73050c6210"
      },
      "source": [
        "del dataset.OtherPatientIDsSequence[2]\n",
        "for s in dataset.OtherPatientIDsSequence:\n",
        "  print(s)"
      ],
      "execution_count": null,
      "outputs": [
        {
          "output_type": "stream",
          "text": [
            "(0010, 0020) Patient ID                          LO: 'ABCD1234'\n",
            "(0010, 0022) Type of Patient ID                  CS: 'TEXT'\n",
            "(0010, 0020) Patient ID                          LO: '1234ABCD'\n",
            "(0010, 0022) Type of Patient ID                  CS: 'TEXT'\n"
          ],
          "name": "stdout"
        }
      ]
    },
    {
      "cell_type": "markdown",
      "metadata": {
        "id": "5-o_QqAmBZ6q"
      },
      "source": [
        "# 이미지 보기"
      ]
    },
    {
      "cell_type": "code",
      "metadata": {
        "colab": {
          "base_uri": "https://localhost:8080/",
          "height": 341
        },
        "id": "YRyYN8zhBjot",
        "outputId": "6cc1ca04-2020-417d-9426-bacbc4541131"
      },
      "source": [
        "%matplotlib inline\n",
        "import matplotlib.pyplot as plt\n",
        "plt.figure(figsize=(5,5))\n",
        "plt.imshow(dataset.pixel_array, cmap=plt.cm.gray)"
      ],
      "execution_count": null,
      "outputs": [
        {
          "output_type": "execute_result",
          "data": {
            "text/plain": [
              "<matplotlib.image.AxesImage at 0x7f9a96c621d0>"
            ]
          },
          "metadata": {
            "tags": []
          },
          "execution_count": 22
        },
        {
          "output_type": "display_data",
          "data": {
            "image/png": "[encoded data removed]",
            "text/plain": [
              "<Figure size 360x360 with 1 Axes>"
            ]
          },
          "metadata": {
            "tags": [],
            "needs_background": "light"
          }
        }
      ]
    },
    {
      "cell_type": "markdown",
      "metadata": {
        "id": "ebQ9DLy5Odw9"
      },
      "source": [
        "# **파일로 변환하기**"
      ]
    },
    {
      "cell_type": "markdown",
      "metadata": {
        "id": "v-4sXvJgUntO"
      },
      "source": [
        "## Meta-data를 CSV 파일로 추출"
      ]
    },
    {
      "cell_type": "code",
      "metadata": {
        "id": "nmrRSpXrQEjT"
      },
      "source": [
        "import csv\n",
        "\n",
        "with open('CT_small.csv', 'w', newline='') as csv_file:\n",
        "  writer = csv.writer(csv_file)\n",
        "  writer.writerow('Tag Description VR Value'.split())\n",
        "  for e in dataset:\n",
        "    writer.writerow([\n",
        "                    f'{e.tag.group:04x}, {e.tag.element:04x}',\n",
        "                    e.description(),\n",
        "                    e.VR,\n",
        "                    str(e.value)\n",
        "    ])"
      ],
      "execution_count": null,
      "outputs": []
    },
    {
      "cell_type": "code",
      "metadata": {
        "id": "g7uTTLC8TkiX"
      },
      "source": [
        "# from google.colab import files\n",
        "# files.download('CT_small.csv')"
      ],
      "execution_count": null,
      "outputs": []
    },
    {
      "cell_type": "markdown",
      "metadata": {
        "id": "PUg3UVj-U7J2"
      },
      "source": [
        "## Pixel-data를 PNG 파일로 추출"
      ]
    },
    {
      "cell_type": "code",
      "metadata": {
        "id": "s-IyBSuUVB_m"
      },
      "source": [
        "import numpy as np\n",
        "from PIL import Image"
      ],
      "execution_count": null,
      "outputs": []
    },
    {
      "cell_type": "code",
      "metadata": {
        "colab": {
          "base_uri": "https://localhost:8080/"
        },
        "id": "Sq31puzzPlfe",
        "outputId": "a5f7d39e-1fbc-4ae3-8e14-01cab3bbaa6b"
      },
      "source": [
        "pix = dataset.pixel_array.astype(float)\n",
        "pix"
      ],
      "execution_count": null,
      "outputs": [
        {
          "output_type": "execute_result",
          "data": {
            "text/plain": [
              "array([[175., 180., 166., ..., 203., 207., 216.],\n",
              "       [186., 183., 157., ..., 181., 190., 239.],\n",
              "       [184., 180., 171., ..., 152., 164., 235.],\n",
              "       ...,\n",
              "       [906., 910., 923., ..., 922., 929., 927.],\n",
              "       [914., 954., 938., ..., 942., 925., 905.],\n",
              "       [959., 955., 916., ..., 911., 904., 909.]])"
            ]
          },
          "metadata": {
            "tags": []
          },
          "execution_count": 26
        }
      ]
    },
    {
      "cell_type": "code",
      "metadata": {
        "colab": {
          "base_uri": "https://localhost:8080/"
        },
        "id": "aACUK2AdV1eq",
        "outputId": "5ee385c6-eab7-4cb9-8918-fb9fe7cb7c44"
      },
      "source": [
        "print('min:', pix.min())\n",
        "print('max:', pix.max())"
      ],
      "execution_count": null,
      "outputs": [
        {
          "output_type": "stream",
          "text": [
            "min: 128.0\n",
            "max: 2191.0\n"
          ],
          "name": "stdout"
        }
      ]
    },
    {
      "cell_type": "code",
      "metadata": {
        "colab": {
          "base_uri": "https://localhost:8080/",
          "height": 145
        },
        "id": "gVKo5kmaW1l6",
        "outputId": "6ab2ad87-c4b4-4cd4-cc87-e61bb65f7e7c"
      },
      "source": [
        "pix_uint8 = np.uint8((pix / pix.max()) * 255)\n",
        "img = Image.fromarray(pix_uint8)\n",
        "img"
      ],
      "execution_count": null,
      "outputs": [
        {
          "output_type": "execute_result",
          "data": {
            "image/png": "[encoded data removed]",
            "text/plain": [
              "<PIL.Image.Image image mode=L size=128x128 at 0x7F9A96B85A10>"
            ]
          },
          "metadata": {
            "tags": []
          },
          "execution_count": 28
        }
      ]
    },
    {
      "cell_type": "code",
      "metadata": {
        "id": "DbzwubJfebmF"
      },
      "source": [
        "img.save('CT_small.png')"
      ],
      "execution_count": null,
      "outputs": []
    },
    {
      "cell_type": "markdown",
      "metadata": {
        "id": "CnP3nSWBuJNt"
      },
      "source": [
        "# **DICOM 파일 익명화**"
      ]
    },
    {
      "cell_type": "markdown",
      "metadata": {
        "id": "VS3lKwkqxWJq"
      },
      "source": [
        "## Patient 정보 확인"
      ]
    },
    {
      "cell_type": "code",
      "metadata": {
        "colab": {
          "base_uri": "https://localhost:8080/"
        },
        "id": "HivStDxSvVDU",
        "outputId": "b729e295-4b42-4a7d-a9ab-87c25f078eef"
      },
      "source": [
        "# print(dataset)\n",
        "\n",
        "data_elements = ['PatientName',\n",
        "                 'PatientID',\n",
        "                 'PatientBirthDate']\n",
        "for de in data_elements:\n",
        "    print(dataset.data_element(de))"
      ],
      "execution_count": null,
      "outputs": [
        {
          "output_type": "stream",
          "text": [
            "(0010, 0010) Patient's Name                      PN: 'Citizen^snips'\n",
            "(0010, 0020) Patient ID                          LO: '1CT1'\n",
            "(0010, 0030) Patient's Birth Date                DA: ''\n"
          ],
          "name": "stdout"
        }
      ]
    },
    {
      "cell_type": "markdown",
      "metadata": {
        "id": "FtM1tZke2ubg"
      },
      "source": [
        "## Call-back function을 이용한 정보 삭제\n",
        "- _person_names_callback()_ : 사람 이름 관련된 tags\n",
        "- _curves_callback()_ : curves tags"
      ]
    },
    {
      "cell_type": "code",
      "metadata": {
        "id": "SgP_HjCx2ts1"
      },
      "source": [
        "def person_names_callback(dataset, data_element):\n",
        "    if data_element.VR == \"PN\":\n",
        "        data_element.value = \"Anonymous\"\n",
        "\n",
        "def curves_callback(dataset, data_element):\n",
        "    if data_element.tag.group & 0xFF00 == 0x5000:\n",
        "        del dataset[data_element.tag]"
      ],
      "execution_count": null,
      "outputs": []
    },
    {
      "cell_type": "code",
      "metadata": {
        "id": "ycjvT3Ck31xq"
      },
      "source": [
        "dataset.PatientID = \"id\"\n",
        "dataset.walk(person_names_callback)\n",
        "dataset.walk(curves_callback)"
      ],
      "execution_count": null,
      "outputs": []
    },
    {
      "cell_type": "markdown",
      "metadata": {
        "id": "YAOR3EL-xgzR"
      },
      "source": [
        "## Private tags 삭제"
      ]
    },
    {
      "cell_type": "code",
      "metadata": {
        "colab": {
          "base_uri": "https://localhost:8080/"
        },
        "id": "_4SrGqj6SkIf",
        "outputId": "b6ed1797-3621-40c6-8694-ba681d2b0e03"
      },
      "source": [
        "dataset[0x0043, 0x104e]"
      ],
      "execution_count": null,
      "outputs": [
        {
          "output_type": "execute_result",
          "data": {
            "text/plain": [
              "(0043, 104e) [Duration of X-ray on]              FL: 10.60060977935791"
            ]
          },
          "metadata": {
            "tags": []
          },
          "execution_count": 33
        }
      ]
    },
    {
      "cell_type": "code",
      "metadata": {
        "id": "zR3P9S2S2bzj"
      },
      "source": [
        "dataset.remove_private_tags()"
      ],
      "execution_count": null,
      "outputs": []
    },
    {
      "cell_type": "code",
      "metadata": {
        "colab": {
          "base_uri": "https://localhost:8080/"
        },
        "id": "dnSSc7OIStkH",
        "outputId": "4fb5f5d6-0d14-44f7-8d75-5dd09067fe4d"
      },
      "source": [
        "[0x0043, 0x104e] in dataset"
      ],
      "execution_count": null,
      "outputs": [
        {
          "output_type": "execute_result",
          "data": {
            "text/plain": [
              "False"
            ]
          },
          "metadata": {
            "tags": []
          },
          "execution_count": 35
        }
      ]
    },
    {
      "cell_type": "markdown",
      "metadata": {
        "id": "s7Mu-ABu8OQB"
      },
      "source": [
        "## Type 3 (optional)의 data elements 삭제"
      ]
    },
    {
      "cell_type": "code",
      "metadata": {
        "colab": {
          "base_uri": "https://localhost:8080/"
        },
        "id": "eWOVFhpqTyew",
        "outputId": "1a45cd82-bf90-4218-aa86-9b13da9891a1"
      },
      "source": [
        "dataset.OtherPatientIDsSequence"
      ],
      "execution_count": null,
      "outputs": [
        {
          "output_type": "execute_result",
          "data": {
            "text/plain": [
              "<Sequence, length 2>"
            ]
          },
          "metadata": {
            "tags": []
          },
          "execution_count": 36
        }
      ]
    },
    {
      "cell_type": "code",
      "metadata": {
        "id": "L_ceMqjW7xMk"
      },
      "source": [
        "for name in ['OtherPatientIDs', 'OtherPatientIDsSequence']:\n",
        "  if name in dataset:\n",
        "    delattr(dataset, name)"
      ],
      "execution_count": null,
      "outputs": []
    },
    {
      "cell_type": "code",
      "metadata": {
        "colab": {
          "base_uri": "https://localhost:8080/"
        },
        "id": "TKeMwxg5T1o3",
        "outputId": "a887821f-e473-4f1c-eaf9-53c2b8ed98b7"
      },
      "source": [
        "'OtherPatientIDsSequence' in dataset"
      ],
      "execution_count": null,
      "outputs": [
        {
          "output_type": "execute_result",
          "data": {
            "text/plain": [
              "False"
            ]
          },
          "metadata": {
            "tags": []
          },
          "execution_count": 38
        }
      ]
    },
    {
      "cell_type": "markdown",
      "metadata": {
        "id": "pIM_gMyR9K-A"
      },
      "source": [
        "## Type 2의 data elements 삭제"
      ]
    },
    {
      "cell_type": "code",
      "metadata": {
        "id": "inEZOg_U9B5o"
      },
      "source": [
        "tag = 'PatientBirthDate'\n",
        "if tag in dataset:\n",
        "    dataset.data_element(tag).value = '19000101'"
      ],
      "execution_count": null,
      "outputs": []
    },
    {
      "cell_type": "markdown",
      "metadata": {
        "id": "dV6jAFOJ9gNz"
      },
      "source": [
        "## 익명화된 dataset 저장"
      ]
    },
    {
      "cell_type": "code",
      "metadata": {
        "colab": {
          "base_uri": "https://localhost:8080/"
        },
        "id": "vI8FayxX4CLV",
        "outputId": "7259f219-7238-48f0-d036-b9b2562d0468"
      },
      "source": [
        "for de in data_elements:\n",
        "    print(dataset.data_element(de))"
      ],
      "execution_count": null,
      "outputs": [
        {
          "output_type": "stream",
          "text": [
            "(0010, 0010) Patient's Name                      PN: 'Anonymous'\n",
            "(0010, 0020) Patient ID                          LO: 'id'\n",
            "(0010, 0030) Patient's Birth Date                DA: '19000101'\n"
          ],
          "name": "stdout"
        }
      ]
    },
    {
      "cell_type": "code",
      "metadata": {
        "id": "51DGTdDN9Ynx"
      },
      "source": [
        "dataset.save_as('anonymized.dcm')"
      ],
      "execution_count": null,
      "outputs": []
    }
  ]
}